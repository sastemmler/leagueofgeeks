{
 "cells": [
  {
   "cell_type": "markdown",
   "metadata": {},
   "source": [
    "# Understand CNN with MNIST"
   ]
  },
  {
   "cell_type": "code",
   "execution_count": 1,
   "metadata": {},
   "outputs": [],
   "source": [
    "import tensorflow as tf\n",
    "from tensorflow import keras\n",
    "import numpy as np\n",
    "import matplotlib.pyplot as plt"
   ]
  },
  {
   "cell_type": "markdown",
   "metadata": {},
   "source": [
    "## Load MNIST data"
   ]
  },
  {
   "cell_type": "code",
   "execution_count": 2,
   "metadata": {},
   "outputs": [],
   "source": [
    "# load famous mnist dataset which is already integrated in library keras\n",
    "mnist = keras.datasets.mnist"
   ]
  },
  {
   "cell_type": "markdown",
   "metadata": {},
   "source": [
    "split data in train and test dataset\n",
    "x_train and x_test contains the arrays of 28x28 grayscaled images (already preprocessed data) -> images transformed to numerical values\n",
    "whereas y_train and y_test contain the labels that we want to predict"
   ]
  },
  {
   "cell_type": "code",
   "execution_count": 3,
   "metadata": {},
   "outputs": [],
   "source": [
    "(train_features, train_labels),(test_features, test_labels) = mnist.load_data()\n",
    "\n",
    "# normalization of array x_train and x_test\n",
    "train_features, test_features = train_features / 255.0, test_features / 255.0"
   ]
  },
  {
   "cell_type": "code",
   "execution_count": 4,
   "metadata": {},
   "outputs": [
    {
     "name": "stdout",
     "output_type": "stream",
     "text": [
      "(60000, 28, 28)\n",
      "(60000,)\n",
      "(10000, 28, 28)\n",
      "(10000,)\n"
     ]
    }
   ],
   "source": [
    "# test on shape of x_train and y_train\n",
    "print(train_features.shape)\n",
    "print(train_labels.shape)\n",
    "\n",
    "\n",
    "#and for x_test and y_test\n",
    "print(test_features.shape)\n",
    "print(test_labels.shape)"
   ]
  },
  {
   "cell_type": "markdown",
   "metadata": {},
   "source": [
    "## Build a CNN model"
   ]
  },
  {
   "cell_type": "markdown",
   "metadata": {},
   "source": [
    "#### 1. Before you can train the model train and test features have to be reshaped"
   ]
  },
  {
   "cell_type": "code",
   "execution_count": 7,
   "metadata": {},
   "outputs": [
    {
     "name": "stdout",
     "output_type": "stream",
     "text": [
      "(60000, 28, 28, 1)\n",
      "(10000, 28, 28, 1)\n"
     ]
    }
   ],
   "source": [
    "train_features = train_features.reshape(60000, 28,28,1)\n",
    "test_features = test_features.reshape(10000, 28,28,1)\n",
    "\n",
    "print(train_features.shape)\n",
    "print(test_features.shape)"
   ]
  },
  {
   "cell_type": "markdown",
   "metadata": {},
   "source": [
    "#### 2. Setup a sequential model\n",
    "\n",
    "A convolutional neural network starts with a convulutional layer followed by another conv or a pooling layer.\n",
    "The convolutional layer has the purpose to identify significant features within the image like edges and curves. \n",
    "The pooling layer on the other handside has the aim to reduce complexity by getting rid of non-significant features (pixels) within the image. \n",
    "\n",
    "Configuration Conv Layer:\n",
    "- filters: number of filters that should be applied to the image\n",
    "- kernel size: the size of each filter\n",
    "- strides: the step size of a filter mover over an image\n",
    "- padding: will be normale \"same\" which means the output dimension of this layer should have the same as the input\n",
    "\n",
    "Configuration Pooling Layer:\n",
    "- pool size: The size you want to reduce the dimension of the image (e.g. 28x28 -> 14x14 after pooling)"
   ]
  },
  {
   "cell_type": "code",
   "execution_count": 8,
   "metadata": {},
   "outputs": [],
   "source": [
    "model = keras.Sequential([\n",
    "        keras.layers.Conv2D(filters = 32, kernel_size = 3, strides=(1, 1), padding='same', input_shape=(28, 28,1), activation = 'relu'),\n",
    "        keras.layers.MaxPooling2D(pool_size = 2), # for reducing dimensions\n",
    "        keras.layers.Flatten(),\n",
    "        keras.layers.Dense(128, activation='relu'),\n",
    "        keras.layers.Dense(10, activation='softmax') \n",
    "])\n",
    "\n",
    "model.compile(optimizer='adam',\n",
    "                  lr = 0.1, \n",
    "                  loss='sparse_categorical_crossentropy',\n",
    "                  metrics=['accuracy'],\n",
    "                  use_multiprocessing = True)"
   ]
  },
  {
   "cell_type": "code",
   "execution_count": 9,
   "metadata": {},
   "outputs": [
    {
     "name": "stdout",
     "output_type": "stream",
     "text": [
      "Model: \"sequential\"\n",
      "_________________________________________________________________\n",
      "Layer (type)                 Output Shape              Param #   \n",
      "=================================================================\n",
      "conv2d (Conv2D)              (None, 28, 28, 32)        320       \n",
      "_________________________________________________________________\n",
      "max_pooling2d (MaxPooling2D) (None, 14, 14, 32)        0         \n",
      "_________________________________________________________________\n",
      "flatten (Flatten)            (None, 6272)              0         \n",
      "_________________________________________________________________\n",
      "dense (Dense)                (None, 128)               802944    \n",
      "_________________________________________________________________\n",
      "dense_1 (Dense)              (None, 10)                1290      \n",
      "=================================================================\n",
      "Total params: 804,554\n",
      "Trainable params: 804,554\n",
      "Non-trainable params: 0\n",
      "_________________________________________________________________\n"
     ]
    }
   ],
   "source": [
    "model.summary()"
   ]
  },
  {
   "cell_type": "markdown",
   "metadata": {},
   "source": [
    "#### 3. Start model training"
   ]
  },
  {
   "cell_type": "code",
   "execution_count": 10,
   "metadata": {},
   "outputs": [
    {
     "name": "stdout",
     "output_type": "stream",
     "text": [
      "Train on 60000 samples, validate on 10000 samples\n",
      "Epoch 1/5\n",
      "60000/60000 [==============================] - 23s 391us/sample - loss: 0.1706 - accuracy: 0.9479 - val_loss: 0.0608 - val_accuracy: 0.9797\n",
      "Epoch 2/5\n",
      "60000/60000 [==============================] - 23s 378us/sample - loss: 0.0570 - accuracy: 0.9828 - val_loss: 0.0464 - val_accuracy: 0.9846\n",
      "Epoch 3/5\n",
      "60000/60000 [==============================] - 30s 500us/sample - loss: 0.0371 - accuracy: 0.9887 - val_loss: 0.0557 - val_accuracy: 0.9820\n",
      "Epoch 4/5\n",
      "60000/60000 [==============================] - 33s 555us/sample - loss: 0.0256 - accuracy: 0.9920 - val_loss: 0.0387 - val_accuracy: 0.9865\n",
      "Epoch 5/5\n",
      "60000/60000 [==============================] - 36s 607us/sample - loss: 0.0176 - accuracy: 0.9943 - val_loss: 0.0436 - val_accuracy: 0.9858\n"
     ]
    }
   ],
   "source": [
    "cnn = model.fit(train_features, \n",
    "                train_labels, \n",
    "                epochs=5,\n",
    "                batch_size = 32,\n",
    "                validation_data = (test_features, test_labels))"
   ]
  },
  {
   "cell_type": "markdown",
   "metadata": {},
   "source": [
    "#### 4. Evaluate the model"
   ]
  },
  {
   "cell_type": "code",
   "execution_count": 11,
   "metadata": {},
   "outputs": [
    {
     "name": "stdout",
     "output_type": "stream",
     "text": [
      "10000/1 - 1s - loss: 0.0219 - accuracy: 0.9858\n",
      "\n",
      "Test loss: 0.043558212674711834\n",
      "\n",
      "Test accuracy: 0.9858\n"
     ]
    }
   ],
   "source": [
    "test_loss, test_acc = model.evaluate(test_features,  test_labels, verbose=2)\n",
    "\n",
    "print('\\nTest loss:', test_loss)\n",
    "print('\\nTest accuracy:', test_acc)\n",
    "\n",
    "acc = cnn.history['accuracy'] \n",
    "val_acc = cnn.history['val_accuracy']\n",
    "epochs = range(len(acc))"
   ]
  },
  {
   "cell_type": "code",
   "execution_count": 12,
   "metadata": {},
   "outputs": [
    {
     "data": {
      "text/plain": [
       "<matplotlib.legend.Legend at 0x1239af358>"
      ]
     },
     "execution_count": 12,
     "metadata": {},
     "output_type": "execute_result"
    },
    {
     "data": {
      "image/png": "[encoded data removed]",
      "text/plain": [
       "<Figure size 432x288 with 1 Axes>"
      ]
     },
     "metadata": {
      "needs_background": "light"
     },
     "output_type": "display_data"
    }
   ],
   "source": [
    "# get statistics from model history\n",
    "acc = cnn.history['accuracy'] \n",
    "val_acc = cnn.history['val_accuracy']\n",
    "epochs = range(len(acc))\n",
    "\n",
    "# plot accuracy vs epoch\n",
    "plt.title('Training and test accuracy')\n",
    "plt.plot(epochs, acc, color = 'blue', label = 'Train')\n",
    "plt.plot(epochs, val_acc, color = 'orange', label = 'Validation')\n",
    "plt.xlabel('Epoch ~ number of iterations')\n",
    "plt.ylabel('Accuracy')\n",
    "\n",
    "plt.legend()"
   ]
  },
  {
   "cell_type": "code",
   "execution_count": 13,
   "metadata": {},
   "outputs": [
    {
     "data": {
      "text/plain": [
       "<matplotlib.legend.Legend at 0x123b37c18>"
      ]
     },
     "execution_count": 13,
     "metadata": {},
     "output_type": "execute_result"
    },
    {
     "data": {
      "image/png": "[encoded data removed]",
      "text/plain": [
       "<Figure size 432x288 with 1 Axes>"
      ]
     },
     "metadata": {
      "needs_background": "light"
     },
     "output_type": "display_data"
    }
   ],
   "source": [
    "# get statistics from model history\n",
    "loss = cnn.history['loss'] \n",
    "val_loss = cnn.history['val_loss']\n",
    "epochs = range(len(acc))\n",
    "\n",
    "# plot accuracy vs epoch\n",
    "plt.title('Loss')\n",
    "plt.plot(epochs, loss, color = 'blue', label = 'Train')\n",
    "plt.plot(epochs, val_loss, color = 'orange', label = 'Validation')\n",
    "plt.xlabel('Epoch ~ number of iterations')\n",
    "plt.ylabel('Accuracy')\n",
    "plt.legend()"
   ]
  },
  {
   "cell_type": "code",
   "execution_count": 14,
   "metadata": {},
   "outputs": [],
   "source": [
    "predictions = model.predict(test_features)"
   ]
  },
  {
   "cell_type": "markdown",
   "metadata": {},
   "source": [
    "Compute the average prediction accuracy for the test set"
   ]
  },
  {
   "cell_type": "code",
   "execution_count": 15,
   "metadata": {},
   "outputs": [
    {
     "name": "stdout",
     "output_type": "stream",
     "text": [
      "98.93\n"
     ]
    }
   ],
   "source": [
    "result_list = []\n",
    "for n in range(len(predictions)):\n",
    "    r = round(100 * np.max(predictions[n]),2)\n",
    "    result_list.append(r)\n",
    "    \n",
    "avg = round(sum(result_list) / len(result_list), 2)\n",
    "print(avg)"
   ]
  }
 ],
 "metadata": {
  "kernelspec": {
   "display_name": "Python 3",
   "language": "python",
   "name": "python3"
  },
  "language_info": {
   "codemirror_mode": {
    "name": "ipython",
    "version": 3
   },
   "file_extension": ".py",
   "mimetype": "text/x-python",
   "name": "python",
   "nbconvert_exporter": "python",
   "pygments_lexer": "ipython3",
   "version": "3.7.3"
  }
 },
 "nbformat": 4,
 "nbformat_minor": 2
}
